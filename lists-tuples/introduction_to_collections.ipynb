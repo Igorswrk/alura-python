{
  "nbformat": 4,
  "nbformat_minor": 0,
  "metadata": {
    "colab": {
      "name": "introduction-to-collections.ipynb",
      "provenance": [],
      "collapsed_sections": []
    },
    "kernelspec": {
      "name": "python3",
      "display_name": "Python 3"
    },
    "language_info": {
      "name": "python"
    }
  },
  "cells": [
    {
      "cell_type": "code",
      "metadata": {
        "colab": {
          "base_uri": "https://localhost:8080/"
        },
        "id": "Was4RrhGzleu",
        "outputId": "f030299d-47ec-4477-b146-2fb9277007b6"
      },
      "source": [
        "age_01 = 39\n",
        "age_02 = 30\n",
        "age_03 = 27\n",
        "age_04 = 18\n",
        "\n",
        "print(age_01)\n",
        "print(age_02)\n",
        "print(age_03)\n",
        "print(age_04)"
      ],
      "execution_count": 51,
      "outputs": [
        {
          "output_type": "stream",
          "text": [
            "39\n",
            "30\n",
            "27\n",
            "18\n"
          ],
          "name": "stdout"
        }
      ]
    },
    {
      "cell_type": "code",
      "metadata": {
        "colab": {
          "base_uri": "https://localhost:8080/"
        },
        "id": "zwaKSbyt06rZ",
        "outputId": "fab650c5-7282-484e-9452-69634c2734ac"
      },
      "source": [
        "ages = [39, 30, 27, 18]\n",
        "type(ages)"
      ],
      "execution_count": 52,
      "outputs": [
        {
          "output_type": "execute_result",
          "data": {
            "text/plain": [
              "list"
            ]
          },
          "metadata": {
            "tags": []
          },
          "execution_count": 52
        }
      ]
    },
    {
      "cell_type": "code",
      "metadata": {
        "colab": {
          "base_uri": "https://localhost:8080/"
        },
        "id": "XZSEgoCk1YaT",
        "outputId": "8736a66f-4290-4312-8f48-1e440fca9f74"
      },
      "source": [
        "len(ages)"
      ],
      "execution_count": 53,
      "outputs": [
        {
          "output_type": "execute_result",
          "data": {
            "text/plain": [
              "4"
            ]
          },
          "metadata": {
            "tags": []
          },
          "execution_count": 53
        }
      ]
    },
    {
      "cell_type": "code",
      "metadata": {
        "colab": {
          "base_uri": "https://localhost:8080/"
        },
        "id": "QIOL3bVR1gGe",
        "outputId": "3e6ce80e-c2b0-41c5-c5f1-7ece94dfa9e4"
      },
      "source": [
        "ages[0]"
      ],
      "execution_count": 54,
      "outputs": [
        {
          "output_type": "execute_result",
          "data": {
            "text/plain": [
              "39"
            ]
          },
          "metadata": {
            "tags": []
          },
          "execution_count": 54
        }
      ]
    },
    {
      "cell_type": "code",
      "metadata": {
        "colab": {
          "base_uri": "https://localhost:8080/"
        },
        "id": "vdi4MqOJ1ibw",
        "outputId": "ed9d3fd1-8ed3-41e4-eb72-e774fc57de3c"
      },
      "source": [
        "ages"
      ],
      "execution_count": 55,
      "outputs": [
        {
          "output_type": "execute_result",
          "data": {
            "text/plain": [
              "[39, 30, 27, 18]"
            ]
          },
          "metadata": {
            "tags": []
          },
          "execution_count": 55
        }
      ]
    },
    {
      "cell_type": "code",
      "metadata": {
        "id": "cWjhHVwy1j2T"
      },
      "source": [
        "ages.append(15)"
      ],
      "execution_count": 56,
      "outputs": []
    },
    {
      "cell_type": "code",
      "metadata": {
        "colab": {
          "base_uri": "https://localhost:8080/"
        },
        "id": "2IwAx-9E11sk",
        "outputId": "ff68f684-21d7-4079-9969-f70ccb1690bd"
      },
      "source": [
        "ages"
      ],
      "execution_count": 57,
      "outputs": [
        {
          "output_type": "execute_result",
          "data": {
            "text/plain": [
              "[39, 30, 27, 18, 15]"
            ]
          },
          "metadata": {
            "tags": []
          },
          "execution_count": 57
        }
      ]
    },
    {
      "cell_type": "code",
      "metadata": {
        "colab": {
          "base_uri": "https://localhost:8080/"
        },
        "id": "bXYSEdcE12xG",
        "outputId": "ab892177-3ab2-40a5-e272-eb017a9cb724"
      },
      "source": [
        "ages[4]"
      ],
      "execution_count": 58,
      "outputs": [
        {
          "output_type": "execute_result",
          "data": {
            "text/plain": [
              "15"
            ]
          },
          "metadata": {
            "tags": []
          },
          "execution_count": 58
        }
      ]
    },
    {
      "cell_type": "code",
      "metadata": {
        "colab": {
          "base_uri": "https://localhost:8080/"
        },
        "id": "4VoeJcst2DsN",
        "outputId": "a45600d0-1561-4b3c-b1ce-d9ac3d091d23"
      },
      "source": [
        "for age in ages:\n",
        "  print(age)"
      ],
      "execution_count": 59,
      "outputs": [
        {
          "output_type": "stream",
          "text": [
            "39\n",
            "30\n",
            "27\n",
            "18\n",
            "15\n"
          ],
          "name": "stdout"
        }
      ]
    },
    {
      "cell_type": "code",
      "metadata": {
        "id": "uCf__XZ-2PFQ"
      },
      "source": [
        "ages.remove(30)"
      ],
      "execution_count": 60,
      "outputs": []
    },
    {
      "cell_type": "code",
      "metadata": {
        "colab": {
          "base_uri": "https://localhost:8080/"
        },
        "id": "RJ36A23G2Rix",
        "outputId": "e77470c2-7c5c-42dc-a2c4-6686c94d901e"
      },
      "source": [
        "ages"
      ],
      "execution_count": 61,
      "outputs": [
        {
          "output_type": "execute_result",
          "data": {
            "text/plain": [
              "[39, 27, 18, 15]"
            ]
          },
          "metadata": {
            "tags": []
          },
          "execution_count": 61
        }
      ]
    },
    {
      "cell_type": "code",
      "metadata": {
        "id": "w4krAvTI2TKz"
      },
      "source": [
        "ages.append(15)"
      ],
      "execution_count": 62,
      "outputs": []
    },
    {
      "cell_type": "code",
      "metadata": {
        "colab": {
          "base_uri": "https://localhost:8080/"
        },
        "id": "StYZR6bl2pWu",
        "outputId": "c697f1cd-15c2-4e32-99e5-7077f2408afa"
      },
      "source": [
        "ages"
      ],
      "execution_count": 63,
      "outputs": [
        {
          "output_type": "execute_result",
          "data": {
            "text/plain": [
              "[39, 27, 18, 15, 15]"
            ]
          },
          "metadata": {
            "tags": []
          },
          "execution_count": 63
        }
      ]
    },
    {
      "cell_type": "code",
      "metadata": {
        "id": "97BFllDv2qWb"
      },
      "source": [
        "ages.remove(15)"
      ],
      "execution_count": 64,
      "outputs": []
    },
    {
      "cell_type": "code",
      "metadata": {
        "colab": {
          "base_uri": "https://localhost:8080/"
        },
        "id": "jMTUpejJ2tGN",
        "outputId": "f96899f2-df74-45b6-fd1e-b9add4ad0101"
      },
      "source": [
        "ages"
      ],
      "execution_count": 65,
      "outputs": [
        {
          "output_type": "execute_result",
          "data": {
            "text/plain": [
              "[39, 27, 18, 15]"
            ]
          },
          "metadata": {
            "tags": []
          },
          "execution_count": 65
        }
      ]
    },
    {
      "cell_type": "code",
      "metadata": {
        "colab": {
          "base_uri": "https://localhost:8080/"
        },
        "id": "Zniqt7Pj3R6h",
        "outputId": "404c403f-547c-47f7-cc9f-ad4715db0406"
      },
      "source": [
        "ages.append(27)\n",
        "ages.remove(27)\n",
        "ages"
      ],
      "execution_count": 66,
      "outputs": [
        {
          "output_type": "execute_result",
          "data": {
            "text/plain": [
              "[39, 18, 15, 27]"
            ]
          },
          "metadata": {
            "tags": []
          },
          "execution_count": 66
        }
      ]
    },
    {
      "cell_type": "code",
      "metadata": {
        "colab": {
          "base_uri": "https://localhost:8080/"
        },
        "id": "RbSoeQ_r4nhh",
        "outputId": "96c15a2c-6384-4843-b09d-14f02055f236"
      },
      "source": [
        "28 in ages"
      ],
      "execution_count": 67,
      "outputs": [
        {
          "output_type": "execute_result",
          "data": {
            "text/plain": [
              "False"
            ]
          },
          "metadata": {
            "tags": []
          },
          "execution_count": 67
        }
      ]
    },
    {
      "cell_type": "code",
      "metadata": {
        "colab": {
          "base_uri": "https://localhost:8080/"
        },
        "id": "lP22TLc94qBV",
        "outputId": "b9d5b0f5-9b13-4865-8eff-f7cd7289460c"
      },
      "source": [
        "15 in ages"
      ],
      "execution_count": 68,
      "outputs": [
        {
          "output_type": "execute_result",
          "data": {
            "text/plain": [
              "True"
            ]
          },
          "metadata": {
            "tags": []
          },
          "execution_count": 68
        }
      ]
    },
    {
      "cell_type": "code",
      "metadata": {
        "id": "uh7TC1784rdk"
      },
      "source": [
        "if 15 in ages:\n",
        "  ages.remove(15)"
      ],
      "execution_count": 71,
      "outputs": []
    },
    {
      "cell_type": "code",
      "metadata": {
        "colab": {
          "base_uri": "https://localhost:8080/"
        },
        "id": "rMHUijMw4y5o",
        "outputId": "974c3c13-af3d-48b4-c80b-4e43bb3b09da"
      },
      "source": [
        "ages"
      ],
      "execution_count": 72,
      "outputs": [
        {
          "output_type": "execute_result",
          "data": {
            "text/plain": [
              "[39, 18, 27]"
            ]
          },
          "metadata": {
            "tags": []
          },
          "execution_count": 72
        }
      ]
    },
    {
      "cell_type": "code",
      "metadata": {
        "colab": {
          "base_uri": "https://localhost:8080/"
        },
        "id": "MEDOTdJF_t9s",
        "outputId": "40edc6c8-838c-4e0c-d30e-743105db8dfb"
      },
      "source": [
        "ages.clear()\n",
        "ages"
      ],
      "execution_count": 73,
      "outputs": [
        {
          "output_type": "execute_result",
          "data": {
            "text/plain": [
              "[]"
            ]
          },
          "metadata": {
            "tags": []
          },
          "execution_count": 73
        }
      ]
    },
    {
      "cell_type": "code",
      "metadata": {
        "colab": {
          "base_uri": "https://localhost:8080/"
        },
        "id": "fiOwptB8_y13",
        "outputId": "b17e4a12-8381-4f45-9c35-14bfb20fd474"
      },
      "source": [
        "ages = [39, 18, 15, 27]\n",
        "ages"
      ],
      "execution_count": 81,
      "outputs": [
        {
          "output_type": "execute_result",
          "data": {
            "text/plain": [
              "[39, 18, 15, 27]"
            ]
          },
          "metadata": {
            "tags": []
          },
          "execution_count": 81
        }
      ]
    },
    {
      "cell_type": "markdown",
      "metadata": {
        "id": "2pPtLNWH58ce"
      },
      "source": [
        "*Adicionando elementos em uma lista :*"
      ]
    },
    {
      "cell_type": "markdown",
      "metadata": {
        "id": "staBuaCKAgRV"
      },
      "source": [
        "\n",
        "\n",
        "```\n",
        "# Adicionando 1 elemento em 1 posicao \n",
        "```\n",
        "\n"
      ]
    },
    {
      "cell_type": "code",
      "metadata": {
        "colab": {
          "base_uri": "https://localhost:8080/"
        },
        "id": "wWGSHTTnAQGs",
        "outputId": "e3a0f2a5-6d04-4b62-b547-1543df125a32"
      },
      "source": [
        "ages.insert(0, 20)\n",
        "ages"
      ],
      "execution_count": 84,
      "outputs": [
        {
          "output_type": "execute_result",
          "data": {
            "text/plain": [
              "[20, 39, 18, 15, 27]"
            ]
          },
          "metadata": {
            "tags": []
          },
          "execution_count": 84
        }
      ]
    },
    {
      "cell_type": "markdown",
      "metadata": {
        "id": "PYYL0hBTA6gR"
      },
      "source": [
        "\n",
        "\n",
        "```\n",
        "# Adicionando varios elementos em 1 lista, ou elementos de uma lista em outra lista.\n",
        "```\n",
        "\n"
      ]
    },
    {
      "cell_type": "code",
      "metadata": {
        "colab": {
          "base_uri": "https://localhost:8080/"
        },
        "id": "qf0VwNMUBGhA",
        "outputId": "d75812ad-14a3-414c-e084-b66817f19abc"
      },
      "source": [
        "new_ages = [19, 21, 40]\n",
        "ages.extend(new_ages)\n",
        "ages"
      ],
      "execution_count": 85,
      "outputs": [
        {
          "output_type": "execute_result",
          "data": {
            "text/plain": [
              "[20, 39, 18, 15, 27, 19, 21, 40]"
            ]
          },
          "metadata": {
            "tags": []
          },
          "execution_count": 85
        }
      ]
    },
    {
      "cell_type": "markdown",
      "metadata": {
        "id": "InGqjKF9HH29"
      },
      "source": [
        "\n",
        "```\n",
        "# Descobrindo idades do proximo ano\n",
        "```\n"
      ]
    },
    {
      "cell_type": "code",
      "metadata": {
        "colab": {
          "base_uri": "https://localhost:8080/"
        },
        "id": "pF1x2xiYHPpu",
        "outputId": "00cec94f-c97b-4385-ca64-f0945390119f"
      },
      "source": [
        "ages_next_year = []\n",
        "for age in ages:\n",
        "    ages_next_year.append(age + 1)\n",
        "ages_next_year"
      ],
      "execution_count": 86,
      "outputs": [
        {
          "output_type": "execute_result",
          "data": {
            "text/plain": [
              "[21, 40, 19, 16, 28, 20, 22, 41]"
            ]
          },
          "metadata": {
            "tags": []
          },
          "execution_count": 86
        }
      ]
    },
    {
      "cell_type": "markdown",
      "metadata": {
        "id": "2RGyBIcbHkat"
      },
      "source": [
        "\n",
        "\n",
        "```\n",
        "# List comprehension\n",
        "```\n",
        "\n"
      ]
    },
    {
      "cell_type": "code",
      "metadata": {
        "colab": {
          "base_uri": "https://localhost:8080/"
        },
        "id": "lGm58Q4jHvo5",
        "outputId": "fca94a88-fd4b-43f2-f3cf-31ff01119172"
      },
      "source": [
        "ages_next_year = [(age + 1) for age in ages]\n",
        "ages_next_year"
      ],
      "execution_count": 87,
      "outputs": [
        {
          "output_type": "execute_result",
          "data": {
            "text/plain": [
              "[21, 40, 19, 16, 28, 20, 22, 41]"
            ]
          },
          "metadata": {
            "tags": []
          },
          "execution_count": 87
        }
      ]
    },
    {
      "cell_type": "code",
      "metadata": {
        "colab": {
          "base_uri": "https://localhost:8080/"
        },
        "id": "rQ6wXR3aICeK",
        "outputId": "932283a2-3c6a-47b3-f0d4-9eb01f94a88f"
      },
      "source": [
        "[(age) for age in ages if age > 21]"
      ],
      "execution_count": 88,
      "outputs": [
        {
          "output_type": "execute_result",
          "data": {
            "text/plain": [
              "[39, 27, 40]"
            ]
          },
          "metadata": {
            "tags": []
          },
          "execution_count": 88
        }
      ]
    },
    {
      "cell_type": "code",
      "metadata": {
        "colab": {
          "base_uri": "https://localhost:8080/"
        },
        "id": "cAeJ-hMrITKR",
        "outputId": "3cc8f366-2434-4be4-8c2f-481d8212fa10"
      },
      "source": [
        "def next_year(age):\n",
        "  return age + 1\n",
        "\n",
        "[next_year(age) for age in ages if age > 21]"
      ],
      "execution_count": 89,
      "outputs": [
        {
          "output_type": "execute_result",
          "data": {
            "text/plain": [
              "[40, 28, 41]"
            ]
          },
          "metadata": {
            "tags": []
          },
          "execution_count": 89
        }
      ]
    },
    {
      "cell_type": "code",
      "metadata": {
        "id": "46yWsl0LIm0N"
      },
      "source": [
        ""
      ],
      "execution_count": null,
      "outputs": []
    }
  ]
}