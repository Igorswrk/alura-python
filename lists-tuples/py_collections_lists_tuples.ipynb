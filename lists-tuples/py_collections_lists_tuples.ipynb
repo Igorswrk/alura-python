{
  "nbformat": 4,
  "nbformat_minor": 0,
  "metadata": {
    "colab": {
      "name": "py_collections_lists_tuples.ipynb",
      "provenance": [],
      "collapsed_sections": [
        "HpvyE_lnX5EZ",
        "jspJefZEXv-e"
      ]
    },
    "kernelspec": {
      "name": "python3",
      "display_name": "Python 3"
    },
    "language_info": {
      "name": "python"
    }
  },
  "cells": [
    {
      "cell_type": "markdown",
      "metadata": {
        "id": "HpvyE_lnX5EZ"
      },
      "source": [
        "# Listas e Operacoes "
      ]
    },
    {
      "cell_type": "code",
      "metadata": {
        "colab": {
          "base_uri": "https://localhost:8080/"
        },
        "id": "Was4RrhGzleu",
        "outputId": "f030299d-47ec-4477-b146-2fb9277007b6"
      },
      "source": [
        "age_01 = 39\n",
        "age_02 = 30\n",
        "age_03 = 27\n",
        "age_04 = 18\n",
        "\n",
        "print(age_01)\n",
        "print(age_02)\n",
        "print(age_03)\n",
        "print(age_04)"
      ],
      "execution_count": 51,
      "outputs": [
        {
          "output_type": "stream",
          "text": [
            "39\n",
            "30\n",
            "27\n",
            "18\n"
          ],
          "name": "stdout"
        }
      ]
    },
    {
      "cell_type": "code",
      "metadata": {
        "colab": {
          "base_uri": "https://localhost:8080/"
        },
        "id": "zwaKSbyt06rZ",
        "outputId": "fab650c5-7282-484e-9452-69634c2734ac"
      },
      "source": [
        "ages = [39, 30, 27, 18]\n",
        "type(ages)"
      ],
      "execution_count": 52,
      "outputs": [
        {
          "output_type": "execute_result",
          "data": {
            "text/plain": [
              "list"
            ]
          },
          "metadata": {
            "tags": []
          },
          "execution_count": 52
        }
      ]
    },
    {
      "cell_type": "code",
      "metadata": {
        "colab": {
          "base_uri": "https://localhost:8080/"
        },
        "id": "XZSEgoCk1YaT",
        "outputId": "8736a66f-4290-4312-8f48-1e440fca9f74"
      },
      "source": [
        "len(ages)"
      ],
      "execution_count": 53,
      "outputs": [
        {
          "output_type": "execute_result",
          "data": {
            "text/plain": [
              "4"
            ]
          },
          "metadata": {
            "tags": []
          },
          "execution_count": 53
        }
      ]
    },
    {
      "cell_type": "code",
      "metadata": {
        "colab": {
          "base_uri": "https://localhost:8080/"
        },
        "id": "QIOL3bVR1gGe",
        "outputId": "3e6ce80e-c2b0-41c5-c5f1-7ece94dfa9e4"
      },
      "source": [
        "ages[0]"
      ],
      "execution_count": 54,
      "outputs": [
        {
          "output_type": "execute_result",
          "data": {
            "text/plain": [
              "39"
            ]
          },
          "metadata": {
            "tags": []
          },
          "execution_count": 54
        }
      ]
    },
    {
      "cell_type": "code",
      "metadata": {
        "colab": {
          "base_uri": "https://localhost:8080/"
        },
        "id": "vdi4MqOJ1ibw",
        "outputId": "ed9d3fd1-8ed3-41e4-eb72-e774fc57de3c"
      },
      "source": [
        "ages"
      ],
      "execution_count": 55,
      "outputs": [
        {
          "output_type": "execute_result",
          "data": {
            "text/plain": [
              "[39, 30, 27, 18]"
            ]
          },
          "metadata": {
            "tags": []
          },
          "execution_count": 55
        }
      ]
    },
    {
      "cell_type": "code",
      "metadata": {
        "id": "cWjhHVwy1j2T"
      },
      "source": [
        "ages.append(15)"
      ],
      "execution_count": 56,
      "outputs": []
    },
    {
      "cell_type": "code",
      "metadata": {
        "colab": {
          "base_uri": "https://localhost:8080/"
        },
        "id": "2IwAx-9E11sk",
        "outputId": "ff68f684-21d7-4079-9969-f70ccb1690bd"
      },
      "source": [
        "ages"
      ],
      "execution_count": 57,
      "outputs": [
        {
          "output_type": "execute_result",
          "data": {
            "text/plain": [
              "[39, 30, 27, 18, 15]"
            ]
          },
          "metadata": {
            "tags": []
          },
          "execution_count": 57
        }
      ]
    },
    {
      "cell_type": "code",
      "metadata": {
        "colab": {
          "base_uri": "https://localhost:8080/"
        },
        "id": "bXYSEdcE12xG",
        "outputId": "ab892177-3ab2-40a5-e272-eb017a9cb724"
      },
      "source": [
        "ages[4]"
      ],
      "execution_count": 58,
      "outputs": [
        {
          "output_type": "execute_result",
          "data": {
            "text/plain": [
              "15"
            ]
          },
          "metadata": {
            "tags": []
          },
          "execution_count": 58
        }
      ]
    },
    {
      "cell_type": "code",
      "metadata": {
        "colab": {
          "base_uri": "https://localhost:8080/"
        },
        "id": "4VoeJcst2DsN",
        "outputId": "a45600d0-1561-4b3c-b1ce-d9ac3d091d23"
      },
      "source": [
        "for age in ages:\n",
        "  print(age)"
      ],
      "execution_count": 59,
      "outputs": [
        {
          "output_type": "stream",
          "text": [
            "39\n",
            "30\n",
            "27\n",
            "18\n",
            "15\n"
          ],
          "name": "stdout"
        }
      ]
    },
    {
      "cell_type": "code",
      "metadata": {
        "id": "uCf__XZ-2PFQ"
      },
      "source": [
        "ages.remove(30)"
      ],
      "execution_count": 60,
      "outputs": []
    },
    {
      "cell_type": "code",
      "metadata": {
        "colab": {
          "base_uri": "https://localhost:8080/"
        },
        "id": "RJ36A23G2Rix",
        "outputId": "e77470c2-7c5c-42dc-a2c4-6686c94d901e"
      },
      "source": [
        "ages"
      ],
      "execution_count": 61,
      "outputs": [
        {
          "output_type": "execute_result",
          "data": {
            "text/plain": [
              "[39, 27, 18, 15]"
            ]
          },
          "metadata": {
            "tags": []
          },
          "execution_count": 61
        }
      ]
    },
    {
      "cell_type": "code",
      "metadata": {
        "id": "w4krAvTI2TKz"
      },
      "source": [
        "ages.append(15)"
      ],
      "execution_count": 62,
      "outputs": []
    },
    {
      "cell_type": "code",
      "metadata": {
        "colab": {
          "base_uri": "https://localhost:8080/"
        },
        "id": "StYZR6bl2pWu",
        "outputId": "c697f1cd-15c2-4e32-99e5-7077f2408afa"
      },
      "source": [
        "ages"
      ],
      "execution_count": 63,
      "outputs": [
        {
          "output_type": "execute_result",
          "data": {
            "text/plain": [
              "[39, 27, 18, 15, 15]"
            ]
          },
          "metadata": {
            "tags": []
          },
          "execution_count": 63
        }
      ]
    },
    {
      "cell_type": "code",
      "metadata": {
        "id": "97BFllDv2qWb"
      },
      "source": [
        "ages.remove(15)"
      ],
      "execution_count": 64,
      "outputs": []
    },
    {
      "cell_type": "code",
      "metadata": {
        "colab": {
          "base_uri": "https://localhost:8080/"
        },
        "id": "jMTUpejJ2tGN",
        "outputId": "f96899f2-df74-45b6-fd1e-b9add4ad0101"
      },
      "source": [
        "ages"
      ],
      "execution_count": 65,
      "outputs": [
        {
          "output_type": "execute_result",
          "data": {
            "text/plain": [
              "[39, 27, 18, 15]"
            ]
          },
          "metadata": {
            "tags": []
          },
          "execution_count": 65
        }
      ]
    },
    {
      "cell_type": "code",
      "metadata": {
        "colab": {
          "base_uri": "https://localhost:8080/"
        },
        "id": "Zniqt7Pj3R6h",
        "outputId": "404c403f-547c-47f7-cc9f-ad4715db0406"
      },
      "source": [
        "ages.append(27)\n",
        "ages.remove(27)\n",
        "ages"
      ],
      "execution_count": 66,
      "outputs": [
        {
          "output_type": "execute_result",
          "data": {
            "text/plain": [
              "[39, 18, 15, 27]"
            ]
          },
          "metadata": {
            "tags": []
          },
          "execution_count": 66
        }
      ]
    },
    {
      "cell_type": "code",
      "metadata": {
        "colab": {
          "base_uri": "https://localhost:8080/"
        },
        "id": "RbSoeQ_r4nhh",
        "outputId": "96c15a2c-6384-4843-b09d-14f02055f236"
      },
      "source": [
        "28 in ages"
      ],
      "execution_count": 67,
      "outputs": [
        {
          "output_type": "execute_result",
          "data": {
            "text/plain": [
              "False"
            ]
          },
          "metadata": {
            "tags": []
          },
          "execution_count": 67
        }
      ]
    },
    {
      "cell_type": "code",
      "metadata": {
        "colab": {
          "base_uri": "https://localhost:8080/"
        },
        "id": "lP22TLc94qBV",
        "outputId": "b9d5b0f5-9b13-4865-8eff-f7cd7289460c"
      },
      "source": [
        "15 in ages"
      ],
      "execution_count": 68,
      "outputs": [
        {
          "output_type": "execute_result",
          "data": {
            "text/plain": [
              "True"
            ]
          },
          "metadata": {
            "tags": []
          },
          "execution_count": 68
        }
      ]
    },
    {
      "cell_type": "code",
      "metadata": {
        "id": "uh7TC1784rdk"
      },
      "source": [
        "if 15 in ages:\n",
        "  ages.remove(15)"
      ],
      "execution_count": 71,
      "outputs": []
    },
    {
      "cell_type": "code",
      "metadata": {
        "colab": {
          "base_uri": "https://localhost:8080/"
        },
        "id": "rMHUijMw4y5o",
        "outputId": "974c3c13-af3d-48b4-c80b-4e43bb3b09da"
      },
      "source": [
        "ages"
      ],
      "execution_count": 72,
      "outputs": [
        {
          "output_type": "execute_result",
          "data": {
            "text/plain": [
              "[39, 18, 27]"
            ]
          },
          "metadata": {
            "tags": []
          },
          "execution_count": 72
        }
      ]
    },
    {
      "cell_type": "code",
      "metadata": {
        "colab": {
          "base_uri": "https://localhost:8080/"
        },
        "id": "MEDOTdJF_t9s",
        "outputId": "40edc6c8-838c-4e0c-d30e-743105db8dfb"
      },
      "source": [
        "ages.clear()\n",
        "ages"
      ],
      "execution_count": 73,
      "outputs": [
        {
          "output_type": "execute_result",
          "data": {
            "text/plain": [
              "[]"
            ]
          },
          "metadata": {
            "tags": []
          },
          "execution_count": 73
        }
      ]
    },
    {
      "cell_type": "code",
      "metadata": {
        "colab": {
          "base_uri": "https://localhost:8080/"
        },
        "id": "fiOwptB8_y13",
        "outputId": "b17e4a12-8381-4f45-9c35-14bfb20fd474"
      },
      "source": [
        "ages = [39, 18, 15, 27]\n",
        "ages"
      ],
      "execution_count": 81,
      "outputs": [
        {
          "output_type": "execute_result",
          "data": {
            "text/plain": [
              "[39, 18, 15, 27]"
            ]
          },
          "metadata": {
            "tags": []
          },
          "execution_count": 81
        }
      ]
    },
    {
      "cell_type": "markdown",
      "metadata": {
        "id": "2pPtLNWH58ce"
      },
      "source": [
        "*Adicionando elementos em uma lista :*"
      ]
    },
    {
      "cell_type": "markdown",
      "metadata": {
        "id": "staBuaCKAgRV"
      },
      "source": [
        "\n",
        "\n",
        "```\n",
        "# Adicionando 1 elemento em 1 posicao \n",
        "```\n",
        "\n"
      ]
    },
    {
      "cell_type": "code",
      "metadata": {
        "colab": {
          "base_uri": "https://localhost:8080/"
        },
        "id": "wWGSHTTnAQGs",
        "outputId": "e3a0f2a5-6d04-4b62-b547-1543df125a32"
      },
      "source": [
        "ages.insert(0, 20)\n",
        "ages"
      ],
      "execution_count": 84,
      "outputs": [
        {
          "output_type": "execute_result",
          "data": {
            "text/plain": [
              "[20, 39, 18, 15, 27]"
            ]
          },
          "metadata": {
            "tags": []
          },
          "execution_count": 84
        }
      ]
    },
    {
      "cell_type": "markdown",
      "metadata": {
        "id": "PYYL0hBTA6gR"
      },
      "source": [
        "\n",
        "\n",
        "```\n",
        "# Adicionando varios elementos em 1 lista, ou elementos de uma lista em outra lista.\n",
        "```\n",
        "\n"
      ]
    },
    {
      "cell_type": "code",
      "metadata": {
        "colab": {
          "base_uri": "https://localhost:8080/"
        },
        "id": "qf0VwNMUBGhA",
        "outputId": "d75812ad-14a3-414c-e084-b66817f19abc"
      },
      "source": [
        "new_ages = [19, 21, 40]\n",
        "ages.extend(new_ages)\n",
        "ages"
      ],
      "execution_count": 85,
      "outputs": [
        {
          "output_type": "execute_result",
          "data": {
            "text/plain": [
              "[20, 39, 18, 15, 27, 19, 21, 40]"
            ]
          },
          "metadata": {
            "tags": []
          },
          "execution_count": 85
        }
      ]
    },
    {
      "cell_type": "markdown",
      "metadata": {
        "id": "InGqjKF9HH29"
      },
      "source": [
        "\n",
        "```\n",
        "# Descobrindo idades do proximo ano\n",
        "```\n"
      ]
    },
    {
      "cell_type": "code",
      "metadata": {
        "colab": {
          "base_uri": "https://localhost:8080/"
        },
        "id": "pF1x2xiYHPpu",
        "outputId": "00cec94f-c97b-4385-ca64-f0945390119f"
      },
      "source": [
        "ages_next_year = []\n",
        "for age in ages:\n",
        "    ages_next_year.append(age + 1)\n",
        "ages_next_year"
      ],
      "execution_count": 86,
      "outputs": [
        {
          "output_type": "execute_result",
          "data": {
            "text/plain": [
              "[21, 40, 19, 16, 28, 20, 22, 41]"
            ]
          },
          "metadata": {
            "tags": []
          },
          "execution_count": 86
        }
      ]
    },
    {
      "cell_type": "markdown",
      "metadata": {
        "id": "2RGyBIcbHkat"
      },
      "source": [
        "\n",
        "\n",
        "```\n",
        "# List comprehension\n",
        "```\n",
        "\n"
      ]
    },
    {
      "cell_type": "code",
      "metadata": {
        "colab": {
          "base_uri": "https://localhost:8080/"
        },
        "id": "lGm58Q4jHvo5",
        "outputId": "fca94a88-fd4b-43f2-f3cf-31ff01119172"
      },
      "source": [
        "ages_next_year = [(age + 1) for age in ages]\n",
        "ages_next_year"
      ],
      "execution_count": 87,
      "outputs": [
        {
          "output_type": "execute_result",
          "data": {
            "text/plain": [
              "[21, 40, 19, 16, 28, 20, 22, 41]"
            ]
          },
          "metadata": {
            "tags": []
          },
          "execution_count": 87
        }
      ]
    },
    {
      "cell_type": "code",
      "metadata": {
        "colab": {
          "base_uri": "https://localhost:8080/"
        },
        "id": "rQ6wXR3aICeK",
        "outputId": "932283a2-3c6a-47b3-f0d4-9eb01f94a88f"
      },
      "source": [
        "[(age) for age in ages if age > 21]"
      ],
      "execution_count": 88,
      "outputs": [
        {
          "output_type": "execute_result",
          "data": {
            "text/plain": [
              "[39, 27, 40]"
            ]
          },
          "metadata": {
            "tags": []
          },
          "execution_count": 88
        }
      ]
    },
    {
      "cell_type": "code",
      "metadata": {
        "colab": {
          "base_uri": "https://localhost:8080/"
        },
        "id": "cAeJ-hMrITKR",
        "outputId": "3cc8f366-2434-4be4-8c2f-481d8212fa10"
      },
      "source": [
        "def next_year(age):\n",
        "  return age + 1\n",
        "\n",
        "[next_year(age) for age in ages if age > 21]"
      ],
      "execution_count": 89,
      "outputs": [
        {
          "output_type": "execute_result",
          "data": {
            "text/plain": [
              "[40, 28, 41]"
            ]
          },
          "metadata": {
            "tags": []
          },
          "execution_count": 89
        }
      ]
    },
    {
      "cell_type": "markdown",
      "metadata": {
        "id": "jspJefZEXv-e"
      },
      "source": [
        "# Tuplas"
      ]
    },
    {
      "cell_type": "code",
      "metadata": {
        "id": "977TJ2PiX2_5"
      },
      "source": [
        "class CorrentAccount:\n",
        "\n",
        "  def __init__(self, code):\n",
        "    self.code = code\n",
        "    self.balance = 0\n",
        "\n",
        "  def deposit(self, value):\n",
        "    self.balance += value\n",
        "  \n",
        "  def __str__(self):\n",
        "    return (f\" Code: {self.code} >> Balance: {self.balance}\")\n"
      ],
      "execution_count": 93,
      "outputs": []
    },
    {
      "cell_type": "code",
      "metadata": {
        "colab": {
          "base_uri": "https://localhost:8080/"
        },
        "id": "vufEtWLIZJJ9",
        "outputId": "c43d5fd7-79de-4890-b307-2a42eecdf5e0"
      },
      "source": [
        "account_01 = CorrentAccount(15)\n",
        "print(account_01)"
      ],
      "execution_count": 94,
      "outputs": [
        {
          "output_type": "stream",
          "text": [
            " Code: 15 >> Balance: 0\n"
          ],
          "name": "stdout"
        }
      ]
    },
    {
      "cell_type": "code",
      "metadata": {
        "colab": {
          "base_uri": "https://localhost:8080/"
        },
        "id": "-aBn45ZQZiFH",
        "outputId": "29d3da1b-debe-4610-d2dd-7124eccbc45d"
      },
      "source": [
        "account_02 = CorrentAccount(5121)\n",
        "print(account_02)"
      ],
      "execution_count": 95,
      "outputs": [
        {
          "output_type": "stream",
          "text": [
            " Code: 5121 >> Balance: 0\n"
          ],
          "name": "stdout"
        }
      ]
    },
    {
      "cell_type": "code",
      "metadata": {
        "colab": {
          "base_uri": "https://localhost:8080/"
        },
        "id": "5FulnGhVZzjt",
        "outputId": "cc898595-9a1d-4a38-f8e9-0913a8379b49"
      },
      "source": [
        "accounts = [account_01, account_02]\n",
        "print(accounts)"
      ],
      "execution_count": 96,
      "outputs": [
        {
          "output_type": "stream",
          "text": [
            "[<__main__.CorrentAccount object at 0x7f73702d5250>, <__main__.CorrentAccount object at 0x7f73702d5910>]\n"
          ],
          "name": "stdout"
        }
      ]
    },
    {
      "cell_type": "code",
      "metadata": {
        "colab": {
          "base_uri": "https://localhost:8080/"
        },
        "id": "UIJQ6gg5Z7Zr",
        "outputId": "81b10cbe-0db0-45a0-d7a1-43ffe2dfcc08"
      },
      "source": [
        "for account in accounts:\n",
        "  print(account)"
      ],
      "execution_count": 97,
      "outputs": [
        {
          "output_type": "stream",
          "text": [
            " Code: 15 >> Balance: 0\n",
            " Code: 5121 >> Balance: 0\n"
          ],
          "name": "stdout"
        }
      ]
    },
    {
      "cell_type": "code",
      "metadata": {
        "colab": {
          "base_uri": "https://localhost:8080/"
        },
        "id": "CchduMwqaJM6",
        "outputId": "5a7cda4a-f168-48cd-c424-f9c2ea1fc706"
      },
      "source": [
        "account_01.deposit(100)\n",
        "account_02.deposit(500)\n",
        "\n",
        "for account in accounts:\n",
        "  print(account)"
      ],
      "execution_count": 100,
      "outputs": [
        {
          "output_type": "stream",
          "text": [
            " Code: 15 >> Balance: 300\n",
            " Code: 5121 >> Balance: 500\n"
          ],
          "name": "stdout"
        }
      ]
    },
    {
      "cell_type": "code",
      "metadata": {
        "colab": {
          "base_uri": "https://localhost:8080/"
        },
        "id": "0WK1DvhNahpP",
        "outputId": "8f648a0d-ad51-437c-c161-c13a12411970"
      },
      "source": [
        "def deposit_for_all_accounts(accounts):\n",
        "  for account in accounts:\n",
        "    account.deposit(100)\n",
        "\n",
        "accounts = [account_01, account_02]\n",
        "print(accounts[0], accounts[1])\n",
        "deposit_for_all_accounts(accounts)\n",
        "print(accounts[0], accounts[1])"
      ],
      "execution_count": 104,
      "outputs": [
        {
          "output_type": "stream",
          "text": [
            " Code: 15 >> Balance: 400  Code: 5121 >> Balance: 600\n",
            " Code: 15 >> Balance: 500  Code: 5121 >> Balance: 700\n"
          ],
          "name": "stdout"
        }
      ]
    },
    {
      "cell_type": "markdown",
      "metadata": {
        "id": "EwodMndkbl7Y"
      },
      "source": [
        "\n",
        "```\n",
        "# Para sequencia de elementos com tipos diferentes que nao sao mutaveis ultilizamos tupla. (posicao especificas, coisas diferentes)\n",
        "```\n",
        "\n"
      ]
    },
    {
      "cell_type": "code",
      "metadata": {
        "id": "zH7rf70JcRdV"
      },
      "source": [
        "igor = ('Igor', 20, 2000)  # tupla\n",
        "amanda = ('Amanda', 20, 2001)\n",
        "\n",
        "# Paulo = (39, 'Paulo', 1998) # ruim "
      ],
      "execution_count": 107,
      "outputs": []
    },
    {
      "cell_type": "code",
      "metadata": {
        "colab": {
          "base_uri": "https://localhost:8080/",
          "height": 163
        },
        "id": "EePgm7D6czzy",
        "outputId": "bcd630cc-9e13-4381-9b8f-35d207032d3d"
      },
      "source": [
        "igor.append(5123)"
      ],
      "execution_count": 108,
      "outputs": [
        {
          "output_type": "error",
          "ename": "AttributeError",
          "evalue": "ignored",
          "traceback": [
            "\u001b[0;31m---------------------------------------------------------------------------\u001b[0m",
            "\u001b[0;31mAttributeError\u001b[0m                            Traceback (most recent call last)",
            "\u001b[0;32m<ipython-input-108-85038ea2dd90>\u001b[0m in \u001b[0;36m<module>\u001b[0;34m()\u001b[0m\n\u001b[0;32m----> 1\u001b[0;31m \u001b[0migor\u001b[0m\u001b[0;34m.\u001b[0m\u001b[0mappend\u001b[0m\u001b[0;34m(\u001b[0m\u001b[0;36m5123\u001b[0m\u001b[0;34m)\u001b[0m\u001b[0;34m\u001b[0m\u001b[0;34m\u001b[0m\u001b[0m\n\u001b[0m",
            "\u001b[0;31mAttributeError\u001b[0m: 'tuple' object has no attribute 'append'"
          ]
        }
      ]
    },
    {
      "cell_type": "code",
      "metadata": {
        "colab": {
          "base_uri": "https://localhost:8080/"
        },
        "id": "Q3WJy_k0dsJQ",
        "outputId": "4fc10aa4-5f30-44da-e5d4-2e05939c3542"
      },
      "source": [
        "account_01 = (15, 1000)\n",
        "# account_01.deposit() # variacao OO\n",
        "\n",
        "print(account_01[1])"
      ],
      "execution_count": 110,
      "outputs": [
        {
          "output_type": "stream",
          "text": [
            "1000\n"
          ],
          "name": "stdout"
        }
      ]
    },
    {
      "cell_type": "code",
      "metadata": {
        "colab": {
          "base_uri": "https://localhost:8080/",
          "height": 163
        },
        "id": "LqIr3zHpeA0L",
        "outputId": "30ce66ea-1a99-4da7-e7f7-3a0600c264d9"
      },
      "source": [
        "account_01[1] += 10"
      ],
      "execution_count": 111,
      "outputs": [
        {
          "output_type": "error",
          "ename": "TypeError",
          "evalue": "ignored",
          "traceback": [
            "\u001b[0;31m---------------------------------------------------------------------------\u001b[0m",
            "\u001b[0;31mTypeError\u001b[0m                                 Traceback (most recent call last)",
            "\u001b[0;32m<ipython-input-111-55850c0c54e4>\u001b[0m in \u001b[0;36m<module>\u001b[0;34m()\u001b[0m\n\u001b[0;32m----> 1\u001b[0;31m \u001b[0maccount_01\u001b[0m\u001b[0;34m[\u001b[0m\u001b[0;36m1\u001b[0m\u001b[0;34m]\u001b[0m \u001b[0;34m+=\u001b[0m \u001b[0;36m10\u001b[0m\u001b[0;34m\u001b[0m\u001b[0;34m\u001b[0m\u001b[0m\n\u001b[0m",
            "\u001b[0;31mTypeError\u001b[0m: 'tuple' object does not support item assignment"
          ]
        }
      ]
    },
    {
      "cell_type": "code",
      "metadata": {
        "id": "UMmLpb6feGgG"
      },
      "source": [
        "def deposit(account): # Modelo Procedural (Separando comportamento dos dados)\n",
        "  new_balance = account[1] + 100\n",
        "  code = account_01[0]\n",
        "  return (code, new_balance)\n"
      ],
      "execution_count": 115,
      "outputs": []
    },
    {
      "cell_type": "code",
      "metadata": {
        "colab": {
          "base_uri": "https://localhost:8080/"
        },
        "id": "sxPcLz76egOa",
        "outputId": "e7904276-1093-4cda-bc46-a2924a366dbd"
      },
      "source": [
        "account_01"
      ],
      "execution_count": 113,
      "outputs": [
        {
          "output_type": "execute_result",
          "data": {
            "text/plain": [
              "(15, 1000)"
            ]
          },
          "metadata": {
            "tags": []
          },
          "execution_count": 113
        }
      ]
    },
    {
      "cell_type": "code",
      "metadata": {
        "colab": {
          "base_uri": "https://localhost:8080/"
        },
        "id": "9eq4F4Iseh75",
        "outputId": "51ecc0d2-e81e-4eb4-962c-6a1eb4b2350e"
      },
      "source": [
        "account_01 = deposit(account_01)\n",
        "account_01"
      ],
      "execution_count": 116,
      "outputs": [
        {
          "output_type": "execute_result",
          "data": {
            "text/plain": [
              "(15, 1100)"
            ]
          },
          "metadata": {
            "tags": []
          },
          "execution_count": 116
        }
      ]
    },
    {
      "cell_type": "code",
      "metadata": {
        "colab": {
          "base_uri": "https://localhost:8080/"
        },
        "id": "sJ-5SvOYenTe",
        "outputId": "eb13c9d6-c0c2-4d5d-82ef-2a7691a3ec04"
      },
      "source": [
        "users = [igor, amanda]\n",
        "users"
      ],
      "execution_count": 119,
      "outputs": [
        {
          "output_type": "execute_result",
          "data": {
            "text/plain": [
              "[('Igor', 20, 2000), ('Amanda', 20, 2001)]"
            ]
          },
          "metadata": {
            "tags": []
          },
          "execution_count": 119
        }
      ]
    },
    {
      "cell_type": "code",
      "metadata": {
        "colab": {
          "base_uri": "https://localhost:8080/"
        },
        "id": "LvK8F_sce7KP",
        "outputId": "30a0203c-dd73-41dd-8992-2c9ced49f66b"
      },
      "source": [
        "users.append(('Paulo', 21, 1999))\n",
        "users"
      ],
      "execution_count": 123,
      "outputs": [
        {
          "output_type": "execute_result",
          "data": {
            "text/plain": [
              "[('Igor', 20, 2000), ('Amanda', 20, 2001), ('Paulo', 21, 1999)]"
            ]
          },
          "metadata": {
            "tags": []
          },
          "execution_count": 123
        }
      ]
    },
    {
      "cell_type": "code",
      "metadata": {
        "id": "FxPMXQTtf7LF"
      },
      "source": [
        "account_01 = CorrentAccount(15)"
      ],
      "execution_count": 128,
      "outputs": []
    },
    {
      "cell_type": "code",
      "metadata": {
        "id": "AKLVBbrrfMjR"
      },
      "source": [
        "accounts = (account_01, account_02) # tuplas de objetos (podemos mudar o objeto, mas a tupla nao)"
      ],
      "execution_count": 129,
      "outputs": []
    },
    {
      "cell_type": "code",
      "metadata": {
        "colab": {
          "base_uri": "https://localhost:8080/"
        },
        "id": "FvIFwyWVfpJV",
        "outputId": "de90621b-5f8b-49fb-9258-ebe537d0db13"
      },
      "source": [
        "for account in accounts:\n",
        "  print(account)"
      ],
      "execution_count": 130,
      "outputs": [
        {
          "output_type": "stream",
          "text": [
            " Code: 15 >> Balance: 0\n",
            " Code: 5121 >> Balance: 700\n"
          ],
          "name": "stdout"
        }
      ]
    },
    {
      "cell_type": "code",
      "metadata": {
        "id": "Ye7O_3xSf0ls"
      },
      "source": [
        "accounts[1].deposit(500)"
      ],
      "execution_count": 132,
      "outputs": []
    },
    {
      "cell_type": "code",
      "metadata": {
        "colab": {
          "base_uri": "https://localhost:8080/"
        },
        "id": "Z5MZodDugONu",
        "outputId": "77c1e8bb-f953-43cd-a8f7-612f73d16548"
      },
      "source": [
        "accounts"
      ],
      "execution_count": 133,
      "outputs": [
        {
          "output_type": "execute_result",
          "data": {
            "text/plain": [
              "(<__main__.CorrentAccount at 0x7f737020d0d0>,\n",
              " <__main__.CorrentAccount at 0x7f73702d5910>)"
            ]
          },
          "metadata": {
            "tags": []
          },
          "execution_count": 133
        }
      ]
    },
    {
      "cell_type": "code",
      "metadata": {
        "colab": {
          "base_uri": "https://localhost:8080/"
        },
        "id": "zX2wP9G7gRBs",
        "outputId": "13069c04-ed0f-4703-ecc2-771d67da3896"
      },
      "source": [
        "for account in accounts:\n",
        "  print(account)"
      ],
      "execution_count": 134,
      "outputs": [
        {
          "output_type": "stream",
          "text": [
            " Code: 15 >> Balance: 500\n",
            " Code: 5121 >> Balance: 1200\n"
          ],
          "name": "stdout"
        }
      ]
    }
  ]
}