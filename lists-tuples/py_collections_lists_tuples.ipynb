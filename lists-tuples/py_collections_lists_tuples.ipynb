{
  "nbformat": 4,
  "nbformat_minor": 0,
  "metadata": {
    "colab": {
      "name": "py_collections_lists_tuples.ipynb",
      "provenance": [],
      "collapsed_sections": [
        "HpvyE_lnX5EZ",
        "jspJefZEXv-e"
      ]
    },
    "kernelspec": {
      "name": "python3",
      "display_name": "Python 3"
    },
    "language_info": {
      "name": "python"
    }
  },
  "cells": [
    {
      "cell_type": "markdown",
      "metadata": {
        "id": "HpvyE_lnX5EZ"
      },
      "source": [
        "# Listas e Operacoes "
      ]
    },
    {
      "cell_type": "code",
      "metadata": {
        "colab": {
          "base_uri": "https://localhost:8080/"
        },
        "id": "Was4RrhGzleu",
        "outputId": "f030299d-47ec-4477-b146-2fb9277007b6"
      },
      "source": [
        "age_01 = 39\n",
        "age_02 = 30\n",
        "age_03 = 27\n",
        "age_04 = 18\n",
        "\n",
        "print(age_01)\n",
        "print(age_02)\n",
        "print(age_03)\n",
        "print(age_04)"
      ],
      "execution_count": null,
      "outputs": [
        {
          "output_type": "stream",
          "text": [
            "39\n",
            "30\n",
            "27\n",
            "18\n"
          ],
          "name": "stdout"
        }
      ]
    },
    {
      "cell_type": "code",
      "metadata": {
        "colab": {
          "base_uri": "https://localhost:8080/"
        },
        "id": "zwaKSbyt06rZ",
        "outputId": "fab650c5-7282-484e-9452-69634c2734ac"
      },
      "source": [
        "ages = [39, 30, 27, 18]\n",
        "type(ages)"
      ],
      "execution_count": null,
      "outputs": [
        {
          "output_type": "execute_result",
          "data": {
            "text/plain": [
              "list"
            ]
          },
          "metadata": {
            "tags": []
          },
          "execution_count": 52
        }
      ]
    },
    {
      "cell_type": "code",
      "metadata": {
        "colab": {
          "base_uri": "https://localhost:8080/"
        },
        "id": "XZSEgoCk1YaT",
        "outputId": "8736a66f-4290-4312-8f48-1e440fca9f74"
      },
      "source": [
        "len(ages)"
      ],
      "execution_count": null,
      "outputs": [
        {
          "output_type": "execute_result",
          "data": {
            "text/plain": [
              "4"
            ]
          },
          "metadata": {
            "tags": []
          },
          "execution_count": 53
        }
      ]
    },
    {
      "cell_type": "code",
      "metadata": {
        "colab": {
          "base_uri": "https://localhost:8080/"
        },
        "id": "QIOL3bVR1gGe",
        "outputId": "3e6ce80e-c2b0-41c5-c5f1-7ece94dfa9e4"
      },
      "source": [
        "ages[0]"
      ],
      "execution_count": null,
      "outputs": [
        {
          "output_type": "execute_result",
          "data": {
            "text/plain": [
              "39"
            ]
          },
          "metadata": {
            "tags": []
          },
          "execution_count": 54
        }
      ]
    },
    {
      "cell_type": "code",
      "metadata": {
        "colab": {
          "base_uri": "https://localhost:8080/"
        },
        "id": "vdi4MqOJ1ibw",
        "outputId": "ed9d3fd1-8ed3-41e4-eb72-e774fc57de3c"
      },
      "source": [
        "ages"
      ],
      "execution_count": null,
      "outputs": [
        {
          "output_type": "execute_result",
          "data": {
            "text/plain": [
              "[39, 30, 27, 18]"
            ]
          },
          "metadata": {
            "tags": []
          },
          "execution_count": 55
        }
      ]
    },
    {
      "cell_type": "code",
      "metadata": {
        "id": "cWjhHVwy1j2T"
      },
      "source": [
        "ages.append(15)"
      ],
      "execution_count": null,
      "outputs": []
    },
    {
      "cell_type": "code",
      "metadata": {
        "colab": {
          "base_uri": "https://localhost:8080/"
        },
        "id": "2IwAx-9E11sk",
        "outputId": "ff68f684-21d7-4079-9969-f70ccb1690bd"
      },
      "source": [
        "ages"
      ],
      "execution_count": null,
      "outputs": [
        {
          "output_type": "execute_result",
          "data": {
            "text/plain": [
              "[39, 30, 27, 18, 15]"
            ]
          },
          "metadata": {
            "tags": []
          },
          "execution_count": 57
        }
      ]
    },
    {
      "cell_type": "code",
      "metadata": {
        "colab": {
          "base_uri": "https://localhost:8080/"
        },
        "id": "bXYSEdcE12xG",
        "outputId": "ab892177-3ab2-40a5-e272-eb017a9cb724"
      },
      "source": [
        "ages[4]"
      ],
      "execution_count": null,
      "outputs": [
        {
          "output_type": "execute_result",
          "data": {
            "text/plain": [
              "15"
            ]
          },
          "metadata": {
            "tags": []
          },
          "execution_count": 58
        }
      ]
    },
    {
      "cell_type": "code",
      "metadata": {
        "colab": {
          "base_uri": "https://localhost:8080/"
        },
        "id": "4VoeJcst2DsN",
        "outputId": "a45600d0-1561-4b3c-b1ce-d9ac3d091d23"
      },
      "source": [
        "for age in ages:\n",
        "  print(age)"
      ],
      "execution_count": null,
      "outputs": [
        {
          "output_type": "stream",
          "text": [
            "39\n",
            "30\n",
            "27\n",
            "18\n",
            "15\n"
          ],
          "name": "stdout"
        }
      ]
    },
    {
      "cell_type": "code",
      "metadata": {
        "id": "uCf__XZ-2PFQ"
      },
      "source": [
        "ages.remove(30)"
      ],
      "execution_count": null,
      "outputs": []
    },
    {
      "cell_type": "code",
      "metadata": {
        "colab": {
          "base_uri": "https://localhost:8080/"
        },
        "id": "RJ36A23G2Rix",
        "outputId": "e77470c2-7c5c-42dc-a2c4-6686c94d901e"
      },
      "source": [
        "ages"
      ],
      "execution_count": null,
      "outputs": [
        {
          "output_type": "execute_result",
          "data": {
            "text/plain": [
              "[39, 27, 18, 15]"
            ]
          },
          "metadata": {
            "tags": []
          },
          "execution_count": 61
        }
      ]
    },
    {
      "cell_type": "code",
      "metadata": {
        "id": "w4krAvTI2TKz"
      },
      "source": [
        "ages.append(15)"
      ],
      "execution_count": null,
      "outputs": []
    },
    {
      "cell_type": "code",
      "metadata": {
        "colab": {
          "base_uri": "https://localhost:8080/"
        },
        "id": "StYZR6bl2pWu",
        "outputId": "c697f1cd-15c2-4e32-99e5-7077f2408afa"
      },
      "source": [
        "ages"
      ],
      "execution_count": null,
      "outputs": [
        {
          "output_type": "execute_result",
          "data": {
            "text/plain": [
              "[39, 27, 18, 15, 15]"
            ]
          },
          "metadata": {
            "tags": []
          },
          "execution_count": 63
        }
      ]
    },
    {
      "cell_type": "code",
      "metadata": {
        "id": "97BFllDv2qWb"
      },
      "source": [
        "ages.remove(15)"
      ],
      "execution_count": null,
      "outputs": []
    },
    {
      "cell_type": "code",
      "metadata": {
        "colab": {
          "base_uri": "https://localhost:8080/"
        },
        "id": "jMTUpejJ2tGN",
        "outputId": "f96899f2-df74-45b6-fd1e-b9add4ad0101"
      },
      "source": [
        "ages"
      ],
      "execution_count": null,
      "outputs": [
        {
          "output_type": "execute_result",
          "data": {
            "text/plain": [
              "[39, 27, 18, 15]"
            ]
          },
          "metadata": {
            "tags": []
          },
          "execution_count": 65
        }
      ]
    },
    {
      "cell_type": "code",
      "metadata": {
        "colab": {
          "base_uri": "https://localhost:8080/"
        },
        "id": "Zniqt7Pj3R6h",
        "outputId": "404c403f-547c-47f7-cc9f-ad4715db0406"
      },
      "source": [
        "ages.append(27)\n",
        "ages.remove(27)\n",
        "ages"
      ],
      "execution_count": null,
      "outputs": [
        {
          "output_type": "execute_result",
          "data": {
            "text/plain": [
              "[39, 18, 15, 27]"
            ]
          },
          "metadata": {
            "tags": []
          },
          "execution_count": 66
        }
      ]
    },
    {
      "cell_type": "code",
      "metadata": {
        "colab": {
          "base_uri": "https://localhost:8080/"
        },
        "id": "RbSoeQ_r4nhh",
        "outputId": "96c15a2c-6384-4843-b09d-14f02055f236"
      },
      "source": [
        "28 in ages"
      ],
      "execution_count": null,
      "outputs": [
        {
          "output_type": "execute_result",
          "data": {
            "text/plain": [
              "False"
            ]
          },
          "metadata": {
            "tags": []
          },
          "execution_count": 67
        }
      ]
    },
    {
      "cell_type": "code",
      "metadata": {
        "colab": {
          "base_uri": "https://localhost:8080/"
        },
        "id": "lP22TLc94qBV",
        "outputId": "b9d5b0f5-9b13-4865-8eff-f7cd7289460c"
      },
      "source": [
        "15 in ages"
      ],
      "execution_count": null,
      "outputs": [
        {
          "output_type": "execute_result",
          "data": {
            "text/plain": [
              "True"
            ]
          },
          "metadata": {
            "tags": []
          },
          "execution_count": 68
        }
      ]
    },
    {
      "cell_type": "code",
      "metadata": {
        "id": "uh7TC1784rdk"
      },
      "source": [
        "if 15 in ages:\n",
        "  ages.remove(15)"
      ],
      "execution_count": null,
      "outputs": []
    },
    {
      "cell_type": "code",
      "metadata": {
        "colab": {
          "base_uri": "https://localhost:8080/"
        },
        "id": "rMHUijMw4y5o",
        "outputId": "974c3c13-af3d-48b4-c80b-4e43bb3b09da"
      },
      "source": [
        "ages"
      ],
      "execution_count": null,
      "outputs": [
        {
          "output_type": "execute_result",
          "data": {
            "text/plain": [
              "[39, 18, 27]"
            ]
          },
          "metadata": {
            "tags": []
          },
          "execution_count": 72
        }
      ]
    },
    {
      "cell_type": "code",
      "metadata": {
        "colab": {
          "base_uri": "https://localhost:8080/"
        },
        "id": "MEDOTdJF_t9s",
        "outputId": "40edc6c8-838c-4e0c-d30e-743105db8dfb"
      },
      "source": [
        "ages.clear()\n",
        "ages"
      ],
      "execution_count": null,
      "outputs": [
        {
          "output_type": "execute_result",
          "data": {
            "text/plain": [
              "[]"
            ]
          },
          "metadata": {
            "tags": []
          },
          "execution_count": 73
        }
      ]
    },
    {
      "cell_type": "code",
      "metadata": {
        "colab": {
          "base_uri": "https://localhost:8080/"
        },
        "id": "fiOwptB8_y13",
        "outputId": "b17e4a12-8381-4f45-9c35-14bfb20fd474"
      },
      "source": [
        "ages = [39, 18, 15, 27]\n",
        "ages"
      ],
      "execution_count": null,
      "outputs": [
        {
          "output_type": "execute_result",
          "data": {
            "text/plain": [
              "[39, 18, 15, 27]"
            ]
          },
          "metadata": {
            "tags": []
          },
          "execution_count": 81
        }
      ]
    },
    {
      "cell_type": "markdown",
      "metadata": {
        "id": "2pPtLNWH58ce"
      },
      "source": [
        "*Adicionando elementos em uma lista :*"
      ]
    },
    {
      "cell_type": "markdown",
      "metadata": {
        "id": "staBuaCKAgRV"
      },
      "source": [
        "\n",
        "\n",
        "```\n",
        "# Adicionando 1 elemento em 1 posicao \n",
        "```\n",
        "\n"
      ]
    },
    {
      "cell_type": "code",
      "metadata": {
        "colab": {
          "base_uri": "https://localhost:8080/"
        },
        "id": "wWGSHTTnAQGs",
        "outputId": "e3a0f2a5-6d04-4b62-b547-1543df125a32"
      },
      "source": [
        "ages.insert(0, 20)\n",
        "ages"
      ],
      "execution_count": null,
      "outputs": [
        {
          "output_type": "execute_result",
          "data": {
            "text/plain": [
              "[20, 39, 18, 15, 27]"
            ]
          },
          "metadata": {
            "tags": []
          },
          "execution_count": 84
        }
      ]
    },
    {
      "cell_type": "markdown",
      "metadata": {
        "id": "PYYL0hBTA6gR"
      },
      "source": [
        "\n",
        "\n",
        "```\n",
        "# Adicionando varios elementos em 1 lista, ou elementos de uma lista em outra lista.\n",
        "```\n",
        "\n"
      ]
    },
    {
      "cell_type": "code",
      "metadata": {
        "colab": {
          "base_uri": "https://localhost:8080/"
        },
        "id": "qf0VwNMUBGhA",
        "outputId": "d75812ad-14a3-414c-e084-b66817f19abc"
      },
      "source": [
        "new_ages = [19, 21, 40]\n",
        "ages.extend(new_ages)\n",
        "ages"
      ],
      "execution_count": null,
      "outputs": [
        {
          "output_type": "execute_result",
          "data": {
            "text/plain": [
              "[20, 39, 18, 15, 27, 19, 21, 40]"
            ]
          },
          "metadata": {
            "tags": []
          },
          "execution_count": 85
        }
      ]
    },
    {
      "cell_type": "markdown",
      "metadata": {
        "id": "InGqjKF9HH29"
      },
      "source": [
        "\n",
        "```\n",
        "# Descobrindo idades do proximo ano\n",
        "```\n"
      ]
    },
    {
      "cell_type": "code",
      "metadata": {
        "colab": {
          "base_uri": "https://localhost:8080/"
        },
        "id": "pF1x2xiYHPpu",
        "outputId": "00cec94f-c97b-4385-ca64-f0945390119f"
      },
      "source": [
        "ages_next_year = []\n",
        "for age in ages:\n",
        "    ages_next_year.append(age + 1)\n",
        "ages_next_year"
      ],
      "execution_count": null,
      "outputs": [
        {
          "output_type": "execute_result",
          "data": {
            "text/plain": [
              "[21, 40, 19, 16, 28, 20, 22, 41]"
            ]
          },
          "metadata": {
            "tags": []
          },
          "execution_count": 86
        }
      ]
    },
    {
      "cell_type": "markdown",
      "metadata": {
        "id": "2RGyBIcbHkat"
      },
      "source": [
        "\n",
        "\n",
        "```\n",
        "# List comprehension\n",
        "```\n",
        "\n"
      ]
    },
    {
      "cell_type": "code",
      "metadata": {
        "colab": {
          "base_uri": "https://localhost:8080/"
        },
        "id": "lGm58Q4jHvo5",
        "outputId": "fca94a88-fd4b-43f2-f3cf-31ff01119172"
      },
      "source": [
        "ages_next_year = [(age + 1) for age in ages]\n",
        "ages_next_year"
      ],
      "execution_count": null,
      "outputs": [
        {
          "output_type": "execute_result",
          "data": {
            "text/plain": [
              "[21, 40, 19, 16, 28, 20, 22, 41]"
            ]
          },
          "metadata": {
            "tags": []
          },
          "execution_count": 87
        }
      ]
    },
    {
      "cell_type": "code",
      "metadata": {
        "colab": {
          "base_uri": "https://localhost:8080/"
        },
        "id": "rQ6wXR3aICeK",
        "outputId": "932283a2-3c6a-47b3-f0d4-9eb01f94a88f"
      },
      "source": [
        "[(age) for age in ages if age > 21]"
      ],
      "execution_count": null,
      "outputs": [
        {
          "output_type": "execute_result",
          "data": {
            "text/plain": [
              "[39, 27, 40]"
            ]
          },
          "metadata": {
            "tags": []
          },
          "execution_count": 88
        }
      ]
    },
    {
      "cell_type": "code",
      "metadata": {
        "colab": {
          "base_uri": "https://localhost:8080/"
        },
        "id": "cAeJ-hMrITKR",
        "outputId": "3cc8f366-2434-4be4-8c2f-481d8212fa10"
      },
      "source": [
        "def next_year(age):\n",
        "  return age + 1\n",
        "\n",
        "[next_year(age) for age in ages if age > 21]"
      ],
      "execution_count": null,
      "outputs": [
        {
          "output_type": "execute_result",
          "data": {
            "text/plain": [
              "[40, 28, 41]"
            ]
          },
          "metadata": {
            "tags": []
          },
          "execution_count": 89
        }
      ]
    },
    {
      "cell_type": "markdown",
      "metadata": {
        "id": "jspJefZEXv-e"
      },
      "source": [
        "# Tuplas"
      ]
    },
    {
      "cell_type": "code",
      "metadata": {
        "id": "977TJ2PiX2_5"
      },
      "source": [
        "class CorrentAccount:\n",
        "\n",
        "  def __init__(self, code):\n",
        "    self.code = code\n",
        "    self.balance = 0\n",
        "\n",
        "  def deposit(self, value):\n",
        "    self.balance += value\n",
        "  \n",
        "  def __str__(self):\n",
        "    return (f\" Code: {self.code} >> Balance: {self.balance}\")\n"
      ],
      "execution_count": null,
      "outputs": []
    },
    {
      "cell_type": "code",
      "metadata": {
        "colab": {
          "base_uri": "https://localhost:8080/"
        },
        "id": "vufEtWLIZJJ9",
        "outputId": "68eb639c-1692-4109-f6a5-f89046111827"
      },
      "source": [
        "account_01 = CorrentAccount(15)\n",
        "print(account_01)"
      ],
      "execution_count": null,
      "outputs": [
        {
          "output_type": "stream",
          "text": [
            " Code: 15 >> Balance: 0\n"
          ],
          "name": "stdout"
        }
      ]
    },
    {
      "cell_type": "code",
      "metadata": {
        "colab": {
          "base_uri": "https://localhost:8080/"
        },
        "id": "-aBn45ZQZiFH",
        "outputId": "9b9d8fc4-3243-43cb-c08b-b8bc403d861f"
      },
      "source": [
        "account_02 = CorrentAccount(5121)\n",
        "print(account_02)"
      ],
      "execution_count": null,
      "outputs": [
        {
          "output_type": "stream",
          "text": [
            " Code: 5121 >> Balance: 0\n"
          ],
          "name": "stdout"
        }
      ]
    },
    {
      "cell_type": "code",
      "metadata": {
        "colab": {
          "base_uri": "https://localhost:8080/"
        },
        "id": "5FulnGhVZzjt",
        "outputId": "a929349e-47d5-461f-f125-ed909231907a"
      },
      "source": [
        "accounts = [account_01, account_02]\n",
        "print(accounts)"
      ],
      "execution_count": null,
      "outputs": [
        {
          "output_type": "stream",
          "text": [
            "[<__main__.CorrentAccount object at 0x7f41b45f5690>, <__main__.CorrentAccount object at 0x7f41b45f53d0>]\n"
          ],
          "name": "stdout"
        }
      ]
    },
    {
      "cell_type": "code",
      "metadata": {
        "colab": {
          "base_uri": "https://localhost:8080/"
        },
        "id": "UIJQ6gg5Z7Zr",
        "outputId": "bdc0cd63-c4d5-45c5-8357-aaf645028f5c"
      },
      "source": [
        "for account in accounts:\n",
        "  print(account)"
      ],
      "execution_count": null,
      "outputs": [
        {
          "output_type": "stream",
          "text": [
            " Code: 15 >> Balance: 0\n",
            " Code: 5121 >> Balance: 0\n"
          ],
          "name": "stdout"
        }
      ]
    },
    {
      "cell_type": "code",
      "metadata": {
        "colab": {
          "base_uri": "https://localhost:8080/"
        },
        "id": "CchduMwqaJM6",
        "outputId": "7354a88b-d118-4b22-815e-bb8a1301c404"
      },
      "source": [
        "account_01.deposit(100)\n",
        "account_02.deposit(500)\n",
        "\n",
        "for account in accounts:\n",
        "  print(account)"
      ],
      "execution_count": null,
      "outputs": [
        {
          "output_type": "stream",
          "text": [
            " Code: 15 >> Balance: 100\n",
            " Code: 5121 >> Balance: 500\n"
          ],
          "name": "stdout"
        }
      ]
    },
    {
      "cell_type": "code",
      "metadata": {
        "colab": {
          "base_uri": "https://localhost:8080/"
        },
        "id": "0WK1DvhNahpP",
        "outputId": "d2f1a0bb-c399-40dd-c75b-77c31e4b25b1"
      },
      "source": [
        "def deposit_for_all_accounts(accounts):\n",
        "  for account in accounts:\n",
        "    account.deposit(100)\n",
        "\n",
        "accounts = [account_01, account_02]\n",
        "print(accounts[0], accounts[1])\n",
        "deposit_for_all_accounts(accounts)\n",
        "print(accounts[0], accounts[1])"
      ],
      "execution_count": null,
      "outputs": [
        {
          "output_type": "stream",
          "text": [
            " Code: 15 >> Balance: 100  Code: 5121 >> Balance: 500\n",
            " Code: 15 >> Balance: 200  Code: 5121 >> Balance: 600\n"
          ],
          "name": "stdout"
        }
      ]
    },
    {
      "cell_type": "markdown",
      "metadata": {
        "id": "EwodMndkbl7Y"
      },
      "source": [
        "\n",
        "```\n",
        "# Para sequencia de elementos com tipos diferentes que nao sao mutaveis ultilizamos tupla. (posicao especificas, coisas diferentes)\n",
        "```\n",
        "\n"
      ]
    },
    {
      "cell_type": "code",
      "metadata": {
        "id": "zH7rf70JcRdV"
      },
      "source": [
        "igor = ('Igor', 20, 2000)  # tupla\n",
        "amanda = ('Amanda', 20, 2001)\n",
        "\n",
        "# Paulo = (39, 'Paulo', 1998) # ruim "
      ],
      "execution_count": null,
      "outputs": []
    },
    {
      "cell_type": "code",
      "metadata": {
        "colab": {
          "base_uri": "https://localhost:8080/",
          "height": 163
        },
        "id": "EePgm7D6czzy",
        "outputId": "4d0221ad-94c3-4d42-c04d-06b9b8d75d95"
      },
      "source": [
        "igor.append(5123)"
      ],
      "execution_count": null,
      "outputs": [
        {
          "output_type": "error",
          "ename": "AttributeError",
          "evalue": "ignored",
          "traceback": [
            "\u001b[0;31m---------------------------------------------------------------------------\u001b[0m",
            "\u001b[0;31mAttributeError\u001b[0m                            Traceback (most recent call last)",
            "\u001b[0;32m<ipython-input-9-85038ea2dd90>\u001b[0m in \u001b[0;36m<module>\u001b[0;34m()\u001b[0m\n\u001b[0;32m----> 1\u001b[0;31m \u001b[0migor\u001b[0m\u001b[0;34m.\u001b[0m\u001b[0mappend\u001b[0m\u001b[0;34m(\u001b[0m\u001b[0;36m5123\u001b[0m\u001b[0;34m)\u001b[0m\u001b[0;34m\u001b[0m\u001b[0;34m\u001b[0m\u001b[0m\n\u001b[0m",
            "\u001b[0;31mAttributeError\u001b[0m: 'tuple' object has no attribute 'append'"
          ]
        }
      ]
    },
    {
      "cell_type": "code",
      "metadata": {
        "id": "Q3WJy_k0dsJQ"
      },
      "source": [
        "account_01 = (15, 1000)\n",
        "# account_01.deposit() # variacao OO\n",
        "\n",
        "print(account_01[1])"
      ],
      "execution_count": null,
      "outputs": []
    },
    {
      "cell_type": "code",
      "metadata": {
        "id": "LqIr3zHpeA0L"
      },
      "source": [
        "account_01[1] += 10"
      ],
      "execution_count": null,
      "outputs": []
    },
    {
      "cell_type": "code",
      "metadata": {
        "id": "UMmLpb6feGgG"
      },
      "source": [
        "def deposit(account): # Modelo Procedural (Separando comportamento dos dados)\n",
        "  new_balance = account[1] + 100\n",
        "  code = account_01[0]\n",
        "  return (code, new_balance)\n"
      ],
      "execution_count": null,
      "outputs": []
    },
    {
      "cell_type": "code",
      "metadata": {
        "id": "sxPcLz76egOa"
      },
      "source": [
        "account_01"
      ],
      "execution_count": null,
      "outputs": []
    },
    {
      "cell_type": "code",
      "metadata": {
        "id": "9eq4F4Iseh75"
      },
      "source": [
        "account_01 = deposit(account_01)\n",
        "account_01"
      ],
      "execution_count": null,
      "outputs": []
    },
    {
      "cell_type": "code",
      "metadata": {
        "id": "sJ-5SvOYenTe"
      },
      "source": [
        "users = [igor, amanda]\n",
        "users"
      ],
      "execution_count": null,
      "outputs": []
    },
    {
      "cell_type": "code",
      "metadata": {
        "id": "LvK8F_sce7KP"
      },
      "source": [
        "users.append(('Paulo', 21, 1999))\n",
        "users"
      ],
      "execution_count": null,
      "outputs": []
    },
    {
      "cell_type": "code",
      "metadata": {
        "id": "FxPMXQTtf7LF"
      },
      "source": [
        "account_01 = CorrentAccount(15)"
      ],
      "execution_count": null,
      "outputs": []
    },
    {
      "cell_type": "code",
      "metadata": {
        "id": "AKLVBbrrfMjR"
      },
      "source": [
        "accounts = (account_01, account_02) # tuplas de objetos (podemos mudar o objeto, mas a tupla nao)"
      ],
      "execution_count": null,
      "outputs": []
    },
    {
      "cell_type": "code",
      "metadata": {
        "id": "FvIFwyWVfpJV"
      },
      "source": [
        "for account in accounts:\n",
        "  print(account)"
      ],
      "execution_count": null,
      "outputs": []
    },
    {
      "cell_type": "code",
      "metadata": {
        "id": "Ye7O_3xSf0ls"
      },
      "source": [
        "accounts[1].deposit(500)"
      ],
      "execution_count": null,
      "outputs": []
    },
    {
      "cell_type": "code",
      "metadata": {
        "id": "Z5MZodDugONu"
      },
      "source": [
        "accounts"
      ],
      "execution_count": null,
      "outputs": []
    },
    {
      "cell_type": "code",
      "metadata": {
        "id": "zX2wP9G7gRBs"
      },
      "source": [
        "for account in accounts:\n",
        "  print(account)"
      ],
      "execution_count": null,
      "outputs": []
    },
    {
      "cell_type": "markdown",
      "metadata": {
        "id": "qYy_yptbhAZ6"
      },
      "source": [
        "# Polimorfismo e arrays"
      ]
    },
    {
      "cell_type": "markdown",
      "metadata": {
        "id": "vEP08ZDL7tRu"
      },
      "source": [
        "#### Heranca e polimorfismo"
      ]
    },
    {
      "cell_type": "code",
      "metadata": {
        "id": "-t32ITo4hGuu"
      },
      "source": [
        "class Account:\n",
        "\n",
        "  def __init__(self, code):\n",
        "    self._code = code\n",
        "    self._balance = 0\n",
        "\n",
        "  def deposit(self, value):\n",
        "    self._balance += value\n",
        "  \n",
        "  def __str__(self):\n",
        "    return (f\" Code: {self._code} >> Balance: {self._balance}\")"
      ],
      "execution_count": 54,
      "outputs": []
    },
    {
      "cell_type": "code",
      "metadata": {
        "colab": {
          "base_uri": "https://localhost:8080/"
        },
        "id": "4lkUspLl3gRc",
        "outputId": "51f25d2d-a762-4271-e314-df5d37ed2b66"
      },
      "source": [
        "print(Account(88))"
      ],
      "execution_count": null,
      "outputs": [
        {
          "output_type": "stream",
          "text": [
            " Code: 88 >> Balance: 0\n"
          ],
          "name": "stdout"
        }
      ]
    },
    {
      "cell_type": "code",
      "metadata": {
        "id": "6bew1SBg76QC"
      },
      "source": [
        "class CorrentAccount(Account):\n",
        "\n",
        "  def spend_month(self):\n",
        "    self._balance -= 2\n",
        "\n",
        "class SavingsAccount(Account):\n",
        "  \n",
        "  def spend_month(self):\n",
        "    self._balance *= 1.01\n",
        "    self._balance -= 3\n"
      ],
      "execution_count": 55,
      "outputs": []
    },
    {
      "cell_type": "code",
      "metadata": {
        "colab": {
          "base_uri": "https://localhost:8080/"
        },
        "id": "MUsQXlnJ8xSI",
        "outputId": "0f258f38-37ce-415b-9c38-b9b4040a6504"
      },
      "source": [
        "account_16 = CorrentAccount(16)\n",
        "account_16.deposit(1000)\n",
        "account_16.spend_month()\n",
        "print(account_16)"
      ],
      "execution_count": null,
      "outputs": [
        {
          "output_type": "stream",
          "text": [
            " Code: 16 >> Balance: 998\n"
          ],
          "name": "stdout"
        }
      ]
    },
    {
      "cell_type": "code",
      "metadata": {
        "colab": {
          "base_uri": "https://localhost:8080/"
        },
        "id": "YNUXX3Uv8-uL",
        "outputId": "138be562-3d51-410f-f48f-ebb7347c8754"
      },
      "source": [
        "account_17 = SavingsAccount(17)\n",
        "account_17.deposit(2000)\n",
        "account_17.spend_month()\n",
        "print(account_17)"
      ],
      "execution_count": null,
      "outputs": [
        {
          "output_type": "stream",
          "text": [
            " Code: 17 >> Balance: 2017.0\n"
          ],
          "name": "stdout"
        }
      ]
    },
    {
      "cell_type": "code",
      "metadata": {
        "colab": {
          "base_uri": "https://localhost:8080/"
        },
        "id": "zxcKM-nmCLUC",
        "outputId": "f938cb66-3863-4197-87d4-ee39c83c7e1c"
      },
      "source": [
        "account_16 = CorrentAccount(16)\n",
        "account_16.deposit(1000)\n",
        "account_17 = SavingsAccount(17)\n",
        "account_17.deposit(2000)\n",
        "accounts = [account_16, account_17]\n",
        "\n",
        "for account in accounts:\n",
        "  account.spend_month() # Duck Typing\n",
        "  print(account)\n"
      ],
      "execution_count": null,
      "outputs": [
        {
          "output_type": "stream",
          "text": [
            " Code: 16 >> Balance: 998\n",
            " Code: 17 >> Balance: 2017.0\n"
          ],
          "name": "stdout"
        }
      ]
    },
    {
      "cell_type": "markdown",
      "metadata": {
        "id": "Kyd_vAMFCw4G"
      },
      "source": [
        "#### Array ( Evitaremos ultilizar )\n"
      ]
    },
    {
      "cell_type": "code",
      "metadata": {
        "id": "m-7QuQRpC-kX"
      },
      "source": [
        "import array as arr"
      ],
      "execution_count": null,
      "outputs": []
    },
    {
      "cell_type": "code",
      "metadata": {
        "colab": {
          "base_uri": "https://localhost:8080/"
        },
        "id": "Rc1Bn32oDBQi",
        "outputId": "5159687c-383a-47e8-acfb-9002eff6d8a3"
      },
      "source": [
        "arr.array('d', [1, 3.5])"
      ],
      "execution_count": null,
      "outputs": [
        {
          "output_type": "execute_result",
          "data": {
            "text/plain": [
              "array('d', [1.0, 3.5])"
            ]
          },
          "metadata": {
            "tags": []
          },
          "execution_count": 17
        }
      ]
    },
    {
      "cell_type": "markdown",
      "metadata": {
        "id": "8yP4tHYEDWyE"
      },
      "source": [
        "Onde seria viável utilizarmos o array, existe uma biblioteca que consegue ser mais recomendada para realização da tarefa, como trabalhar com números e dados matemáticos específicos, estamos falando da biblioteca *numpy*, **bastante utilizada na área de data science.**\n",
        "\n",
        "\n",
        "\n",
        "\n",
        "```\n",
        "import numpy as np\n",
        "```\n",
        "\n"
      ]
    },
    {
      "cell_type": "code",
      "metadata": {
        "colab": {
          "base_uri": "https://localhost:8080/"
        },
        "id": "PAvj2kTgDF21",
        "outputId": "23416f39-8fba-4638-d61a-2968b301519b"
      },
      "source": [
        "import numpy as np\n",
        "\n",
        "numbers = np.array([1, 3.5])\n",
        "numbers"
      ],
      "execution_count": null,
      "outputs": [
        {
          "output_type": "execute_result",
          "data": {
            "text/plain": [
              "array([1. , 3.5])"
            ]
          },
          "metadata": {
            "tags": []
          },
          "execution_count": 18
        }
      ]
    },
    {
      "cell_type": "code",
      "metadata": {
        "colab": {
          "base_uri": "https://localhost:8080/"
        },
        "id": "83MoI9miEfq5",
        "outputId": "f1d3862e-7fbc-4976-9452-20952e99944b"
      },
      "source": [
        "numbers + 3"
      ],
      "execution_count": null,
      "outputs": [
        {
          "output_type": "execute_result",
          "data": {
            "text/plain": [
              "array([4. , 6.5])"
            ]
          },
          "metadata": {
            "tags": []
          },
          "execution_count": 19
        }
      ]
    },
    {
      "cell_type": "markdown",
      "metadata": {
        "id": "4py5BaiRE5WU"
      },
      "source": [
        "\n",
        "\n",
        "#### Metodo Abstrato\n"
      ]
    },
    {
      "cell_type": "code",
      "metadata": {
        "id": "otBR5jcTEhoA"
      },
      "source": [
        "class Account:\n",
        "\n",
        "  def __init__(self, code):\n",
        "    self._code = code\n",
        "    self._balance = 0\n",
        "\n",
        "  def deposit(self, value):\n",
        "    self._balance += value\n",
        "  \n",
        "  def __str__(self):\n",
        "    return (f\" Code: {self._code} >> Balance: {self._balance}\")"
      ],
      "execution_count": null,
      "outputs": []
    },
    {
      "cell_type": "code",
      "metadata": {
        "id": "7jrDfTCcE4LP"
      },
      "source": [
        "class CorrentAccount(Account):\n",
        "\n",
        "  def spend_month(self):\n",
        "    self._balance -= 2\n",
        "\n",
        "class SavingsAccount(Account):\n",
        "  \n",
        "  def spend_month(self):\n",
        "    self._balance *= 1.01\n",
        "    self._balance -= 3\n",
        "\n",
        "class InvestementAccount(Account):\n",
        "  pass                            "
      ],
      "execution_count": null,
      "outputs": []
    },
    {
      "cell_type": "code",
      "metadata": {
        "colab": {
          "base_uri": "https://localhost:8080/"
        },
        "id": "FwInxwxOFSLM",
        "outputId": "eaf8d747-8f72-438e-9954-2829b91fedaa"
      },
      "source": [
        "InvestementAccount(600)"
      ],
      "execution_count": null,
      "outputs": [
        {
          "output_type": "execute_result",
          "data": {
            "text/plain": [
              "<__main__.InvestementAccount at 0x7f658561b190>"
            ]
          },
          "metadata": {
            "tags": []
          },
          "execution_count": 23
        }
      ]
    },
    {
      "cell_type": "markdown",
      "metadata": {
        "id": "eM5T_xAAFYjY"
      },
      "source": [
        "Foi possível criar uma conta investimento mesmo sem ter o método de passar o mês **spend_month**, mas para forçar toda conta que será herdeira da classe *Account* a ter esse método devemos utilizar o *abstractMethod*\n",
        "\n",
        "OU SEJA, QUER FORCAR AS CLASSE TUDO QUE HERDA DA MAE TER O METODO X? SO COLOCA O METODO COMO METODO ABSTRATO, TAAAAAAAA?\n",
        "\n",
        "```\n",
        "import abc from ABCMeta, abstractmethod\n",
        "```\n",
        "\n"
      ]
    },
    {
      "cell_type": "code",
      "metadata": {
        "id": "vS-9P7D4FVhg"
      },
      "source": [
        "from abc import ABCMeta, abstractmethod\n",
        "\n",
        "class Account(metaclass=ABCMeta):\n",
        "\n",
        "  def __init__(self, code):\n",
        "    self._code = code\n",
        "    self._balance = 0\n",
        "\n",
        "  def deposit(self, value):\n",
        "    self._balance += value\n",
        "  \n",
        "  @abstractmethod\n",
        "  def spend_month(self):\n",
        "    pass\n",
        "\n",
        "  def __str__(self):\n",
        "    return (f\" Code: {self._code} >> Balance: {self._balance}\")"
      ],
      "execution_count": null,
      "outputs": []
    },
    {
      "cell_type": "code",
      "metadata": {
        "id": "BLHZQOBTGtPz"
      },
      "source": [
        "class CorrentAccount(Account):\n",
        "\n",
        "  def spend_month(self):\n",
        "    self._balance -= 2\n",
        "\n",
        "class SavingsAccount(Account):\n",
        "  \n",
        "  def spend_month(self):\n",
        "    self._balance *= 1.01\n",
        "    self._balance -= 3\n",
        "\n",
        "class InvestementAccount(Account):\n",
        "  pass          \n",
        "  "
      ],
      "execution_count": null,
      "outputs": []
    },
    {
      "cell_type": "code",
      "metadata": {
        "colab": {
          "base_uri": "https://localhost:8080/",
          "height": 163
        },
        "id": "M3QPMKQFHUyj",
        "outputId": "696e0fa9-447c-497c-c481-037a42785a37"
      },
      "source": [
        "print(Account(17))"
      ],
      "execution_count": null,
      "outputs": [
        {
          "output_type": "error",
          "ename": "TypeError",
          "evalue": "ignored",
          "traceback": [
            "\u001b[0;31m---------------------------------------------------------------------------\u001b[0m",
            "\u001b[0;31mTypeError\u001b[0m                                 Traceback (most recent call last)",
            "\u001b[0;32m<ipython-input-27-c574b32d9be7>\u001b[0m in \u001b[0;36m<module>\u001b[0;34m()\u001b[0m\n\u001b[0;32m----> 1\u001b[0;31m \u001b[0mprint\u001b[0m\u001b[0;34m(\u001b[0m\u001b[0mAccount\u001b[0m\u001b[0;34m(\u001b[0m\u001b[0;36m17\u001b[0m\u001b[0;34m)\u001b[0m\u001b[0;34m)\u001b[0m\u001b[0;34m\u001b[0m\u001b[0;34m\u001b[0m\u001b[0m\n\u001b[0m",
            "\u001b[0;31mTypeError\u001b[0m: Can't instantiate abstract class Account with abstract methods spend_month"
          ]
        }
      ]
    },
    {
      "cell_type": "code",
      "metadata": {
        "colab": {
          "base_uri": "https://localhost:8080/",
          "height": 163
        },
        "id": "V6BJr9TYHYXm",
        "outputId": "ae59dd30-c158-4d48-e267-2d0f3f3a413e"
      },
      "source": [
        "print(InvestementAccount(20))"
      ],
      "execution_count": null,
      "outputs": [
        {
          "output_type": "error",
          "ename": "TypeError",
          "evalue": "ignored",
          "traceback": [
            "\u001b[0;31m---------------------------------------------------------------------------\u001b[0m",
            "\u001b[0;31mTypeError\u001b[0m                                 Traceback (most recent call last)",
            "\u001b[0;32m<ipython-input-28-91119930aedc>\u001b[0m in \u001b[0;36m<module>\u001b[0;34m()\u001b[0m\n\u001b[0;32m----> 1\u001b[0;31m \u001b[0mprint\u001b[0m\u001b[0;34m(\u001b[0m\u001b[0mInvestementAccount\u001b[0m\u001b[0;34m(\u001b[0m\u001b[0;36m20\u001b[0m\u001b[0;34m)\u001b[0m\u001b[0;34m)\u001b[0m\u001b[0;34m\u001b[0m\u001b[0;34m\u001b[0m\u001b[0m\n\u001b[0m",
            "\u001b[0;31mTypeError\u001b[0m: Can't instantiate abstract class InvestementAccount with abstract methods spend_month"
          ]
        }
      ]
    },
    {
      "cell_type": "code",
      "metadata": {
        "colab": {
          "base_uri": "https://localhost:8080/"
        },
        "id": "jzIw06pFHcFA",
        "outputId": "da9fae58-4a83-458e-fc09-cdf047832d7c"
      },
      "source": [
        "CorrentAccount(100)"
      ],
      "execution_count": null,
      "outputs": [
        {
          "output_type": "execute_result",
          "data": {
            "text/plain": [
              "<__main__.CorrentAccount at 0x7f6585520490>"
            ]
          },
          "metadata": {
            "tags": []
          },
          "execution_count": 29
        }
      ]
    },
    {
      "cell_type": "code",
      "metadata": {
        "colab": {
          "base_uri": "https://localhost:8080/"
        },
        "id": "dj_JKbWbHheb",
        "outputId": "72b095ed-a5a9-4689-e4b0-aa9b7205fc5c"
      },
      "source": [
        "SavingsAccount(131)"
      ],
      "execution_count": null,
      "outputs": [
        {
          "output_type": "execute_result",
          "data": {
            "text/plain": [
              "<__main__.SavingsAccount at 0x7f6581433750>"
            ]
          },
          "metadata": {
            "tags": []
          },
          "execution_count": 30
        }
      ]
    },
    {
      "cell_type": "code",
      "metadata": {
        "id": "w7TbJ83SHkal"
      },
      "source": [
        ""
      ],
      "execution_count": null,
      "outputs": []
    },
    {
      "cell_type": "markdown",
      "metadata": {
        "id": "aQkevH3TH8Au"
      },
      "source": [
        "# Igualdade"
      ]
    },
    {
      "cell_type": "markdown",
      "metadata": {
        "id": "BSCOiwKZ06dM"
      },
      "source": [
        "\n",
        "\n",
        "\n",
        "#### Igualdade e o `__eq__`\n",
        "\n",
        "\n"
      ]
    },
    {
      "cell_type": "code",
      "metadata": {
        "id": "CqmP30YA09Vv"
      },
      "source": [
        "class SalaryAccount:\n",
        "\n",
        "  def __init__(self, code):\n",
        "    self._code = code\n",
        "    self._balance = 0\n",
        "\n",
        "  def deposit(self, value):\n",
        "    self._balance += value\n",
        "\n",
        "  def __str__(self):\n",
        "    return (f\" Code: {self._code} >> Balance: {self._balance}\")"
      ],
      "execution_count": 18,
      "outputs": []
    },
    {
      "cell_type": "code",
      "metadata": {
        "colab": {
          "base_uri": "https://localhost:8080/"
        },
        "id": "Yq1Mc3xt2pYD",
        "outputId": "bccfde29-907d-4e20-8160-f764e76ef647"
      },
      "source": [
        "account_01 = SalaryAccount(37)\n",
        "print(account_01)"
      ],
      "execution_count": 19,
      "outputs": [
        {
          "output_type": "stream",
          "text": [
            " Code: 37 >> Balance: 0\n"
          ],
          "name": "stdout"
        }
      ]
    },
    {
      "cell_type": "code",
      "metadata": {
        "colab": {
          "base_uri": "https://localhost:8080/"
        },
        "id": "Em7rNKFL2yqB",
        "outputId": "f43f1e2c-4c6e-4afd-f517-919aa55f3334"
      },
      "source": [
        "account_02 = SalaryAccount(37)\n",
        "print(account_02)"
      ],
      "execution_count": 20,
      "outputs": [
        {
          "output_type": "stream",
          "text": [
            " Code: 37 >> Balance: 0\n"
          ],
          "name": "stdout"
        }
      ]
    },
    {
      "cell_type": "code",
      "metadata": {
        "colab": {
          "base_uri": "https://localhost:8080/"
        },
        "id": "t9-puurQ3N8V",
        "outputId": "6b226538-c6b5-4604-de75-fb3958f0ef38"
      },
      "source": [
        "account_01 == account_02"
      ],
      "execution_count": 21,
      "outputs": [
        {
          "output_type": "execute_result",
          "data": {
            "text/plain": [
              "False"
            ]
          },
          "metadata": {},
          "execution_count": 21
        }
      ]
    },
    {
      "cell_type": "code",
      "metadata": {
        "colab": {
          "base_uri": "https://localhost:8080/"
        },
        "id": "4rqLMgvS4LI7",
        "outputId": "9ff3d707-15b7-4072-835a-269f00297fcb"
      },
      "source": [
        "accounts = [account_01]\n",
        "account_01 in accounts"
      ],
      "execution_count": 22,
      "outputs": [
        {
          "output_type": "execute_result",
          "data": {
            "text/plain": [
              "True"
            ]
          },
          "metadata": {},
          "execution_count": 22
        }
      ]
    },
    {
      "cell_type": "code",
      "metadata": {
        "colab": {
          "base_uri": "https://localhost:8080/"
        },
        "id": "TR7Yq-ED4PDD",
        "outputId": "a2382d85-3174-4bec-97e3-e28b41221078"
      },
      "source": [
        "account_02 in accounts"
      ],
      "execution_count": 23,
      "outputs": [
        {
          "output_type": "execute_result",
          "data": {
            "text/plain": [
              "False"
            ]
          },
          "metadata": {},
          "execution_count": 23
        }
      ]
    },
    {
      "cell_type": "code",
      "metadata": {
        "id": "L97pp3sx4RQR"
      },
      "source": [
        "class SalaryAccount:\n",
        "\n",
        "  def __init__(self, code):\n",
        "    self._code = code\n",
        "    self._balance = 0\n",
        "\n",
        "  def __eq__(self, other):\n",
        "    return (self._code == other._code)\n",
        "\n",
        "  def deposit(self, value):\n",
        "    self._balance += value\n",
        "\n",
        "  def __str__(self):\n",
        "    return (f\" Code: {self._code} >> Balance: {self._balance}\")"
      ],
      "execution_count": 24,
      "outputs": []
    },
    {
      "cell_type": "code",
      "metadata": {
        "id": "FfHSJcPM4oqI"
      },
      "source": [
        "account_01 = SalaryAccount(37)"
      ],
      "execution_count": 25,
      "outputs": []
    },
    {
      "cell_type": "code",
      "metadata": {
        "id": "dxDYaK9c4rvn"
      },
      "source": [
        "account_02 = SalaryAccount(37)"
      ],
      "execution_count": 26,
      "outputs": []
    },
    {
      "cell_type": "code",
      "metadata": {
        "colab": {
          "base_uri": "https://localhost:8080/"
        },
        "id": "Um0Nep2P4tmV",
        "outputId": "6b1ddea7-e4fd-4d87-ea5c-4dee124ec0fe"
      },
      "source": [
        "account_01 == account_02"
      ],
      "execution_count": 27,
      "outputs": [
        {
          "output_type": "execute_result",
          "data": {
            "text/plain": [
              "True"
            ]
          },
          "metadata": {},
          "execution_count": 27
        }
      ]
    },
    {
      "cell_type": "code",
      "metadata": {
        "colab": {
          "base_uri": "https://localhost:8080/"
        },
        "id": "1cR03tm74wkh",
        "outputId": "b53cf6c3-0fdc-49fc-a7e8-0d6488906af4"
      },
      "source": [
        "account_01 != account_02"
      ],
      "execution_count": 28,
      "outputs": [
        {
          "output_type": "execute_result",
          "data": {
            "text/plain": [
              "False"
            ]
          },
          "metadata": {},
          "execution_count": 28
        }
      ]
    },
    {
      "cell_type": "code",
      "metadata": {
        "colab": {
          "base_uri": "https://localhost:8080/"
        },
        "id": "iDh8SlGp43W3",
        "outputId": "00513e7c-158c-42ca-d8bd-a8e5211f3f0c"
      },
      "source": [
        "account_01 in [account_02]"
      ],
      "execution_count": 29,
      "outputs": [
        {
          "output_type": "execute_result",
          "data": {
            "text/plain": [
              "True"
            ]
          },
          "metadata": {},
          "execution_count": 29
        }
      ]
    },
    {
      "cell_type": "code",
      "metadata": {
        "colab": {
          "base_uri": "https://localhost:8080/"
        },
        "id": "UxMutS9O48b0",
        "outputId": "6aad6eed-a813-43bd-e0a4-cd594ffcb2ef"
      },
      "source": [
        "account_02 in [account_01]"
      ],
      "execution_count": 30,
      "outputs": [
        {
          "output_type": "execute_result",
          "data": {
            "text/plain": [
              "True"
            ]
          },
          "metadata": {},
          "execution_count": 30
        }
      ]
    },
    {
      "cell_type": "code",
      "metadata": {
        "id": "HqFcOGa24-3B"
      },
      "source": [
        "class SalaryAccount:\n",
        "\n",
        "  def __init__(self, code):\n",
        "    self._code = code\n",
        "    self._balance = 0\n",
        "\n",
        "  def __eq__(self, other):\n",
        "    return (self._code == other._code) and (self._balance == other._balance)\n",
        "\n",
        "  def deposit(self, value):\n",
        "    self._balance += value\n",
        "\n",
        "  def __str__(self):\n",
        "    return (f\" Code: {self._code} >> Balance: {self._balance}\")"
      ],
      "execution_count": 44,
      "outputs": []
    },
    {
      "cell_type": "code",
      "metadata": {
        "id": "v_zziB9_5K5I"
      },
      "source": [
        "account_01 = SalaryAccount(37)\n",
        "account_02 = SalaryAccount(37)\n",
        "\n",
        "account_01.deposit(10)"
      ],
      "execution_count": 48,
      "outputs": []
    },
    {
      "cell_type": "code",
      "metadata": {
        "colab": {
          "base_uri": "https://localhost:8080/"
        },
        "id": "G6ST4V645yDx",
        "outputId": "7638d870-ae7f-4b68-e4ac-be6a74ddffc6"
      },
      "source": [
        "account_01 == account_02"
      ],
      "execution_count": 49,
      "outputs": [
        {
          "output_type": "execute_result",
          "data": {
            "text/plain": [
              "False"
            ]
          },
          "metadata": {},
          "execution_count": 49
        }
      ]
    },
    {
      "cell_type": "code",
      "metadata": {
        "id": "mlnkEubP59NR"
      },
      "source": [
        "class SalaryAccount:\n",
        "\n",
        "  def __init__(self, code):\n",
        "    self._code = code\n",
        "    self._balance = 0\n",
        "\n",
        "  def __eq__(self, other):\n",
        "    if type(other) != SalaryAccount:\n",
        "      return False\n",
        "\n",
        "    return (self._code == other._code) and (self._balance == other._balance)\n",
        "\n",
        "  def deposit(self, value):\n",
        "    self._balance += value\n",
        "\n",
        "  def __str__(self):\n",
        "    return (f\" Code: {self._code} >> Balance: {self._balance}\")"
      ],
      "execution_count": 51,
      "outputs": []
    },
    {
      "cell_type": "code",
      "metadata": {
        "id": "6UhdUu-K6gtl"
      },
      "source": [
        "account_01 = SalaryAccount(37)\n",
        "account_02 = CorrentAccount(37)"
      ],
      "execution_count": 56,
      "outputs": []
    },
    {
      "cell_type": "code",
      "metadata": {
        "colab": {
          "base_uri": "https://localhost:8080/"
        },
        "id": "aN-MOyUT6rAU",
        "outputId": "a1ac7496-b474-4158-aa34-9d7fed227418"
      },
      "source": [
        "account_01 == account_02"
      ],
      "execution_count": 57,
      "outputs": [
        {
          "output_type": "execute_result",
          "data": {
            "text/plain": [
              "False"
            ]
          },
          "metadata": {},
          "execution_count": 57
        }
      ]
    },
    {
      "cell_type": "code",
      "metadata": {
        "colab": {
          "base_uri": "https://localhost:8080/"
        },
        "id": "4bLFxIrp8CDT",
        "outputId": "7cd993cf-e066-4eaa-f786-0b68d36ccf74"
      },
      "source": [
        "isinstance(CorrentAccount(37), CorrentAccount)"
      ],
      "execution_count": 59,
      "outputs": [
        {
          "output_type": "execute_result",
          "data": {
            "text/plain": [
              "True"
            ]
          },
          "metadata": {},
          "execution_count": 59
        }
      ]
    },
    {
      "cell_type": "code",
      "metadata": {
        "colab": {
          "base_uri": "https://localhost:8080/"
        },
        "id": "TI642Uoc8G-B",
        "outputId": "2277eb41-f738-4f5c-dff5-3b7ffc38e1ab"
      },
      "source": [
        "isinstance(CorrentAccount(37), Account)"
      ],
      "execution_count": 60,
      "outputs": [
        {
          "output_type": "execute_result",
          "data": {
            "text/plain": [
              "True"
            ]
          },
          "metadata": {},
          "execution_count": 60
        }
      ]
    },
    {
      "cell_type": "code",
      "metadata": {
        "id": "4QIm3VWn8MaM"
      },
      "source": [
        ""
      ],
      "execution_count": null,
      "outputs": []
    }
  ]
}